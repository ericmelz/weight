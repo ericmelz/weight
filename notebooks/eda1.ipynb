{
 "cells": [
  {
   "cell_type": "markdown",
   "id": "45e32b5c-780d-43b6-9b98-bef43846f0ff",
   "metadata": {},
   "source": [
    "### EDA1 - Exploratory Data Analysis 1\n",
    "Goals:\n",
    "* load data into dataframe\n",
    "* use matplotlib to show line charts over various date ranges"
   ]
  },
  {
   "cell_type": "code",
   "execution_count": 3,
   "id": "693a8765-146c-4298-a152-fdeb8c00767f",
   "metadata": {},
   "outputs": [],
   "source": [
    "from pathlib import Path\n",
    "import pandas as pd"
   ]
  },
  {
   "cell_type": "code",
   "execution_count": 4,
   "id": "c9a14c80-9567-4229-a8bb-9c93187c7279",
   "metadata": {},
   "outputs": [
    {
     "data": {
      "text/html": [
       "<div>\n",
       "<style scoped>\n",
       "    .dataframe tbody tr th:only-of-type {\n",
       "        vertical-align: middle;\n",
       "    }\n",
       "\n",
       "    .dataframe tbody tr th {\n",
       "        vertical-align: top;\n",
       "    }\n",
       "\n",
       "    .dataframe thead th {\n",
       "        text-align: right;\n",
       "    }\n",
       "</style>\n",
       "<table border=\"1\" class=\"dataframe\">\n",
       "  <thead>\n",
       "    <tr style=\"text-align: right;\">\n",
       "      <th></th>\n",
       "      <th>Date</th>\n",
       "      <th>Weight (lb)</th>\n",
       "      <th>Fat mass (lb)</th>\n",
       "      <th>Bone mass (lb)</th>\n",
       "      <th>Muscle mass (lb)</th>\n",
       "      <th>Hydration (lb)</th>\n",
       "      <th>Comments</th>\n",
       "    </tr>\n",
       "  </thead>\n",
       "  <tbody>\n",
       "    <tr>\n",
       "      <th>0</th>\n",
       "      <td>2025-03-30 12:09:03</td>\n",
       "      <td>173.5</td>\n",
       "      <td>39.9</td>\n",
       "      <td>6.7</td>\n",
       "      <td>126.9</td>\n",
       "      <td>90.5</td>\n",
       "      <td>NaN</td>\n",
       "    </tr>\n",
       "    <tr>\n",
       "      <th>1</th>\n",
       "      <td>2025-03-30 11:59:41</td>\n",
       "      <td>174.6</td>\n",
       "      <td>40.7</td>\n",
       "      <td>6.7</td>\n",
       "      <td>127.1</td>\n",
       "      <td>90.8</td>\n",
       "      <td>NaN</td>\n",
       "    </tr>\n",
       "    <tr>\n",
       "      <th>2</th>\n",
       "      <td>2025-03-30 06:04:53</td>\n",
       "      <td>175.2</td>\n",
       "      <td>40.6</td>\n",
       "      <td>6.7</td>\n",
       "      <td>127.9</td>\n",
       "      <td>91.4</td>\n",
       "      <td>NaN</td>\n",
       "    </tr>\n",
       "    <tr>\n",
       "      <th>3</th>\n",
       "      <td>2025-03-29 14:15:59</td>\n",
       "      <td>174.7</td>\n",
       "      <td>37.1</td>\n",
       "      <td>6.9</td>\n",
       "      <td>130.7</td>\n",
       "      <td>93.7</td>\n",
       "      <td>NaN</td>\n",
       "    </tr>\n",
       "    <tr>\n",
       "      <th>4</th>\n",
       "      <td>2025-03-29 09:40:10</td>\n",
       "      <td>174.5</td>\n",
       "      <td>40.3</td>\n",
       "      <td>6.7</td>\n",
       "      <td>127.4</td>\n",
       "      <td>91.0</td>\n",
       "      <td>NaN</td>\n",
       "    </tr>\n",
       "  </tbody>\n",
       "</table>\n",
       "</div>"
      ],
      "text/plain": [
       "                  Date  Weight (lb)  Fat mass (lb)  Bone mass (lb)  \\\n",
       "0  2025-03-30 12:09:03        173.5           39.9             6.7   \n",
       "1  2025-03-30 11:59:41        174.6           40.7             6.7   \n",
       "2  2025-03-30 06:04:53        175.2           40.6             6.7   \n",
       "3  2025-03-29 14:15:59        174.7           37.1             6.9   \n",
       "4  2025-03-29 09:40:10        174.5           40.3             6.7   \n",
       "\n",
       "   Muscle mass (lb)  Hydration (lb)  Comments  \n",
       "0             126.9            90.5       NaN  \n",
       "1             127.1            90.8       NaN  \n",
       "2             127.9            91.4       NaN  \n",
       "3             130.7            93.7       NaN  \n",
       "4             127.4            91.0       NaN  "
      ]
     },
     "execution_count": 4,
     "metadata": {},
     "output_type": "execute_result"
    }
   ],
   "source": [
    "weight_csv_file = Path.cwd() / '..' / 'data' / 'weight.csv'\n",
    "df = pd.read_csv(weight_csv_file)\n",
    "df.head()"
   ]
  },
  {
   "cell_type": "code",
   "execution_count": null,
   "id": "9e41831c-cc4e-45e6-9ef4-f2673a55f188",
   "metadata": {},
   "outputs": [],
   "source": []
  }
 ],
 "metadata": {
  "kernelspec": {
   "display_name": "Python 3 (ipykernel)",
   "language": "python",
   "name": "python3"
  },
  "language_info": {
   "codemirror_mode": {
    "name": "ipython",
    "version": 3
   },
   "file_extension": ".py",
   "mimetype": "text/x-python",
   "name": "python",
   "nbconvert_exporter": "python",
   "pygments_lexer": "ipython3",
   "version": "3.12.0"
  }
 },
 "nbformat": 4,
 "nbformat_minor": 5
}
