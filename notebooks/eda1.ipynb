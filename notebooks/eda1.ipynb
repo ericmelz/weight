{
 "cells": [
  {
   "cell_type": "markdown",
   "id": "45e32b5c-780d-43b6-9b98-bef43846f0ff",
   "metadata": {},
   "source": [
    "### EDA1 - Exploratory Data Analysis 1\n",
    "Goals:\n",
    "* load data into dataframe\n",
    "* use matplotlib to show line charts over various date ranges"
   ]
  },
  {
   "cell_type": "code",
   "execution_count": 1,
   "id": "693a8765-146c-4298-a152-fdeb8c00767f",
   "metadata": {},
   "outputs": [],
   "source": [
    "from pathlib import Path"
   ]
  },
  {
   "cell_type": "code",
   "execution_count": null,
   "id": "c9a14c80-9567-4229-a8bb-9c93187c7279",
   "metadata": {},
   "outputs": [],
   "source": []
  }
 ],
 "metadata": {
  "kernelspec": {
   "display_name": "Python 3 (ipykernel)",
   "language": "python",
   "name": "python3"
  },
  "language_info": {
   "codemirror_mode": {
    "name": "ipython",
    "version": 3
   },
   "file_extension": ".py",
   "mimetype": "text/x-python",
   "name": "python",
   "nbconvert_exporter": "python",
   "pygments_lexer": "ipython3",
   "version": "3.12.0"
  }
 },
 "nbformat": 4,
 "nbformat_minor": 5
}
